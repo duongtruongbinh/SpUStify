{
 "cells": [
  {
   "cell_type": "code",
   "execution_count": 1,
   "id": "80a3fdc5",
   "metadata": {},
   "outputs": [],
   "source": [
    "# cau 1\n",
    "def mutiply_number(a, A = list()):\n",
    "    return [a * num for num in A]\n",
    "        "
   ]
  },
  {
   "cell_type": "code",
   "execution_count": 2,
   "id": "c043c164",
   "metadata": {},
   "outputs": [],
   "source": [
    "# cau 2\n",
    "def add_vectors(A, B):\n",
    "    if len(A) != len(B):\n",
    "        return\n",
    "    return [A[i] + B[i] for i in range(len(A))]\n",
    "\n",
    "def subtract_vectors(A, B):\n",
    "    if len(A) != len(B):\n",
    "        return\n",
    "    return [A[i] - B[i] for i in range(len(A))]"
   ]
  },
  {
   "cell_type": "code",
   "execution_count": 4,
   "id": "94a8278d",
   "metadata": {},
   "outputs": [
    {
     "name": "stdout",
     "output_type": "stream",
     "text": [
      "[-4, 8, -4]\n"
     ]
    }
   ],
   "source": [
    "A = [1, 2 , 3]\n",
    "B = [5, -6, 7]\n",
    "print(subtract_vectors(A,B))"
   ]
  },
  {
   "cell_type": "code",
   "execution_count": 27,
   "id": "98bc6837",
   "metadata": {},
   "outputs": [],
   "source": [
    "def is_zero_vector(A):\n",
    "    return sum(A) == 0"
   ]
  },
  {
   "cell_type": "code",
   "execution_count": 28,
   "id": "5f10647b",
   "metadata": {},
   "outputs": [
    {
     "name": "stdout",
     "output_type": "stream",
     "text": [
      "False\n"
     ]
    }
   ],
   "source": [
    "A = [0,0,1]\n",
    "print(is_zero_vector(A))"
   ]
  },
  {
   "cell_type": "code",
   "execution_count": 29,
   "id": "8730794c",
   "metadata": {},
   "outputs": [],
   "source": [
    "def transpose(A):\n",
    "    return [[row[i] for row in A] for i in range(len(A[0]))]"
   ]
  },
  {
   "cell_type": "code",
   "execution_count": 30,
   "id": "cf115dde",
   "metadata": {},
   "outputs": [
    {
     "name": "stdout",
     "output_type": "stream",
     "text": [
      "[[1, 4], [2, 5], [3, 6]]\n"
     ]
    }
   ],
   "source": [
    "A = [[1,2,3], [4,5,6]]\n",
    "print(transpose(A))"
   ]
  },
  {
   "cell_type": "code",
   "execution_count": 41,
   "id": "1b09d640",
   "metadata": {},
   "outputs": [],
   "source": [
    "def sub_matrix(A, b):\n",
    "    result = [[0] * (len(A[0]) + len(b[0])) for _ in range(len(A))]\n",
    "    for i in range(len(A)):\n",
    "        for j in range(len(A[0])):\n",
    "            result[i][j] = A[i][j]\n",
    "        for k in range(len(b[0])):\n",
    "            result[i][j + k + 1] = b[i][k]\n",
    "    return result\n",
    "\n",
    "\n",
    "# def sub_matrix(A, b):\n",
    "#     return [row + b[i] for i, row in enumerate(A)]"
   ]
  },
  {
   "cell_type": "code",
   "execution_count": 42,
   "id": "88df8449",
   "metadata": {},
   "outputs": [
    {
     "name": "stdout",
     "output_type": "stream",
     "text": [
      "[[1, 2, 3, 9, 0], [4, 5, 6, 10, 1]]\n"
     ]
    }
   ],
   "source": [
    "A = [[1,2,3], [4,5,6]]\n",
    "b = [[9,0], [10,1]]\n",
    "print(sub_matrix(A,b))"
   ]
  },
  {
   "cell_type": "code",
   "execution_count": 34,
   "id": "291b34fd",
   "metadata": {},
   "outputs": [],
   "source": [
    "def BDSCTD1(A, i1 , i2):\n",
    "    A[i1], A[i2] = A[i2], A[i1]\n",
    "    \n",
    "def BDSCTD2(A, i, constant):\n",
    "    A[i] = [x * constant for x in A[i]]\n",
    "\n",
    "def BDSCTD3(A, i1, i2, constant):\n",
    "    A[i1] = [A[i1][x] + A[i2][x] * constant for x in range(len(A[i1]))]    "
   ]
  },
  {
   "cell_type": "code",
   "execution_count": 35,
   "id": "151d64b6",
   "metadata": {},
   "outputs": [
    {
     "name": "stdout",
     "output_type": "stream",
     "text": [
      "[[4, 5, 6], [1, 2, 3]]\n",
      "[[20, 25, 30], [1, 2, 3]]\n",
      "[[25, 35, 45], [1, 2, 3]]\n"
     ]
    }
   ],
   "source": [
    "A = [[1,2,3], [4,5,6]]\n",
    "BDSCTD1(A, 0, 1)\n",
    "print(A)\n",
    "BDSCTD2(A, 0, 5)\n",
    "print(A)\n",
    "BDSCTD3(A, 0, 1, 5)\n",
    "print(A)\n"
   ]
  },
  {
   "cell_type": "code",
   "execution_count": null,
   "id": "2beb297a",
   "metadata": {},
   "outputs": [],
   "source": []
  }
 ],
 "metadata": {
  "kernelspec": {
   "display_name": "Python 3 (ipykernel)",
   "language": "python",
   "name": "python3"
  },
  "language_info": {
   "codemirror_mode": {
    "name": "ipython",
    "version": 3
   },
   "file_extension": ".py",
   "mimetype": "text/x-python",
   "name": "python",
   "nbconvert_exporter": "python",
   "pygments_lexer": "ipython3",
   "version": "3.11.3"
  }
 },
 "nbformat": 4,
 "nbformat_minor": 5
}
